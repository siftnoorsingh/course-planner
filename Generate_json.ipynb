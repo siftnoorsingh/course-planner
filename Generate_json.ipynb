{
 "cells": [
  {
   "cell_type": "code",
   "execution_count": 3,
   "metadata": {
    "collapsed": true
   },
   "outputs": [],
   "source": [
    "import pandas as pd\n",
    "import numpy as np\n",
    "import json\n",
    "from collections import defaultdict"
   ]
  },
  {
   "cell_type": "markdown",
   "metadata": {},
   "source": [
    "### Generate JSON in Sankey Diagram format"
   ]
  },
  {
   "cell_type": "code",
   "execution_count": 35,
   "metadata": {
    "collapsed": true
   },
   "outputs": [],
   "source": [
    "# reads data from an input file and returns a data frame\n",
    "def read_data(input_file):\n",
    "    data = pd.read_excel(input_file,sheetname=1)\n",
    "    # drops columns that contain only NA values in all of its rows \n",
    "    data.dropna(axis=1,how='all').head()\n",
    "    # fill cells with NA values with empty space\n",
    "    data.fillna(value=' ',inplace=True)\n",
    "    return data\n",
    "\n",
    "# takes an input file, output file and a major to generate a json file\n",
    "# @input_file: takes an excel file as input\n",
    "# @output_file: the name of the generated JSON file\n",
    "# @major: the name of the major for which the output JSON file has been generated(eg. Immunology)\n",
    "def generate_json(input_file,output_file,major):\n",
    "    data = read_data(input_file) \n",
    "    # group the data based on the third year subjects\n",
    "    grouped_data = data.groupby([col for col in data.columns if '3rd year' in col])\n",
    "    # create a dictionary of nodes for the sankey diagram\n",
    "    major_nodes = create_node_dict(data,grouped_data,major)\n",
    "    # create a dictionary of links showing the relationship between nodes\n",
    "    major_links = create_link_dict(data,grouped_data,major)\n",
    "    # combine the link and node dictionaries together in the \n",
    "    #format required for generating a Sankey Diagram\n",
    "    major_strs = create_visualisation_format(major_nodes,major_links)\n",
    "    #json.dumps() method turns a Python data structure into JSON\n",
    "    jsonData = json.dumps(major_strs)\n",
    "    # Writing JSON data into output_file\n",
    "    with open(output_file, 'w') as f:\n",
    "        json.dump(major_strs, f)\n",
    "\n",
    "\n",
    "# Generates a dictionary of nodes, with node names as key and sequentially generated ids as values\n",
    "# @grouped_data: a list of lists containing the name of the major, and the different variations of\n",
    "#                first, second and third year subjects to complete that major. The given example\n",
    "#                shows one such variation\n",
    "#                [u'Immunology'] - major\n",
    "#                [u'BIOL10004' u'BIOL10005' ' ' ' '] - first yr subjects\n",
    "#                [u'BCMB20002' u'MIIM20002' u'MIIM20001' ' ' ' ' ' '] - second year subjects\n",
    "#                (u'BCMB30001', u'MIIM30002', u'MIIM30003', u'MIIM30015') - third year subjects as index\n",
    "# @major: the name of the major for which the node dictionary needs to be generated\n",
    "# output: {'BCMB20002 MIIM20001 MIIM20002': 2,\n",
    "#  'BCMB30001': 3,\n",
    "#  'BCMB30002': 7,\n",
    "#  'BCMB30003': 8,\n",
    "#  'BIOL10004 BIOL10005': 1,\n",
    "#  'CEDB30002': 10,\n",
    "#  'GENE30002': 11,\n",
    "#  'Immunology': 0....\n",
    "def create_node_dict(df,grouped_data,major):\n",
    "    node_dict = dict()\n",
    "    # counter for generating dictionary values as ids\n",
    "    node_val = 10\n",
    "    for name, group in grouped_data:\n",
    "        if group['Major'].unique() == major:\n",
    "            if group['Major'].unique()[0] not in node_dict.keys():\n",
    "                node_dict[str(group['Major'].unique()[0])] = node_val\n",
    "#                 node_val+=1\n",
    "            # concatenate all subjects from a given year to create unique combinations to use as keys \n",
    "            # for the node dictionary\n",
    "            # str.strip is used to remove all the list objects with empty space as values\n",
    "            first_yr_subs = (' ').join(filter(str.strip,[str(x) for x in sorted(group[[col for col in df.columns\\\n",
    "                                                                                       if '1st' in col]].values[0])]))\n",
    "            if first_yr_subs not in node_dict.keys():\n",
    "                node_dict[first_yr_subs] = node_val\n",
    "#                 node_val+=1\n",
    "            # concatenate all subjects from a given year to create unique combinations as keys for the dictionary\n",
    "            second_yr_subs = (' ').join(filter(str.strip,[str(x) for x in sorted(group[[col for col in df.columns\\\n",
    "                                                                                        if '2nd year' in col]].values[0])]))\n",
    "            if second_yr_subs not in node_dict.keys():\n",
    "                node_dict[second_yr_subs] = node_val\n",
    "#                 node_val+=1\n",
    "            # take each third year subject as seperate key for the dictionary instead of concatenated combinations\n",
    "            # formed for first and second year subjects\n",
    "            for name_obj in name:\n",
    "                if str(name_obj) not in node_dict.keys():\n",
    "                    node_dict[str(name_obj)] = node_val\n",
    "#                     node_val+=1\n",
    "    return node_dict\n",
    "\n",
    "# Generates a dictionary of dictionary of links, with source nodes as keys for top-level dictionary,\n",
    "# target nodes as keys for the internal dictionary and the number of times a specific source to target link\n",
    "# occurs as the value for the internal dictionary\n",
    "# @grouped_data: a list of lists containing the name of the major, and the different variations of\n",
    "#                first, second and third year subjects to complete that major. The given example\n",
    "#                shows one such variation\n",
    "#                [u'Immunology'] - major\n",
    "#                [u'BIOL10004' u'BIOL10005' ' ' ' '] - first yr subjects\n",
    "#                [u'BCMB20002' u'MIIM20002' u'MIIM20001' ' ' ' ' ' '] - second year subjects\n",
    "#                (u'BCMB30001', u'MIIM30002', u'MIIM30003', u'MIIM30015') - third year subjects as index\n",
    "# @major: the name of the major for which the link dictionary needs to be generated\n",
    "# output: defaultdict(dict,\n",
    "#             {'BCMB20002 MIIM20001 MIIM20002': {u'BCMB30001': 2,\n",
    "#               u'BCMB30002': 3,\n",
    "#               u'BCMB30003': 4,\n",
    "#               u'MIIM30002': 4,\n",
    "#               u'MIIM30003': 4,\n",
    "#               u'MIIM30015': 4},\n",
    "#              'BIOL10004 BIOL10005': {'BCMB20002 MIIM20001 MIIM20002': 3,\n",
    "#               'MIIM20001 MIIM20002': 5},\n",
    "#              'Immunology': {'BIOL10004 BIOL10005': 8},\n",
    "#              'MIIM20001 MIIM20002': {u'CEDB30002': 2,\n",
    "#               u'GENE30002': 3,\n",
    "#               u'MIIM30002': 6,\n",
    "#               u'MIIM30003': 6,\n",
    "#               u'MIIM30011': 4,\n",
    "#               u'MIIM30014': 5,\n",
    "#               u'MIIM30015': 6,\n",
    "#               u'PATH30001': 6}})\n",
    "def create_link_dict(df,grouped_data,major):\n",
    "    link_dict = defaultdict(dict)\n",
    "    link_val = 0\n",
    "    for name, group in grouped_data:\n",
    "        if group['Major'].unique() == major:\n",
    "            first_yr_subs = (' ').join(filter(str.strip,[str(x) for x in sorted(group[[col for col in df.columns\\\n",
    "                                                                                       if '1st' in col]].values[0])]))\n",
    "            second_yr_subs = (' ').join(filter(str.strip,[str(x) for x in sorted(group[[col for col in df.columns\\\n",
    "                                                                                        if '2nd year' in col]].values[0])]))\n",
    "            # generate dict of dicts for all the links between the major and all the first year subject \n",
    "            # combinations, alongwith the number of times this link occurs\n",
    "            link_dict[str(group['Major'].unique()[0])][first_yr_subs] = 40#link_dict[str(group['Major'].unique()[0])]\\\n",
    "            .get(first_yr_subs,0) + 1\n",
    "            # generate dict of dicts for all the links between the first year subject combinations and second year \n",
    "            # subject combinations, alongwith the number of times this link occurs\n",
    "            link_dict[first_yr_subs][second_yr_subs] = 20#link_dict[first_yr_subs].get(second_yr_subs,0) + 1\n",
    "            for name_obj in name:\n",
    "            # generate dict of dicts for all the links between the second year subject combinations and \n",
    "            # individual third year subjects, alongwith the number of times this link occurs                \n",
    "                link_dict[second_yr_subs][name_obj] = 10#link_dict[first_yr_subs].get(second_yr_subs,0) + 1\n",
    "    return link_dict\n",
    "\n",
    "# Combines the node dictionary and link dictionary to generate a string containing all the information\n",
    "# in the format required for the visualisation\n",
    "# @node_dict: takes the dictionary of nodes, generated using create_node_dict, as argument\n",
    "# @link_dict: takes the dictionary of links, generated using create_link_dict, as argument\n",
    "# output: '{\"nodes\":[ {\"name\":\"Immunology\"},{\"name\":\"BIOL10004 BIOL10005\"},\n",
    "# {\"name\":\"BCMB20002 MIIM20001 MIIM20002\"},{\"name\":\"BCMB30001\"},{\"name\":\"MIIM30002\"},{\"name\":\"MIIM30003\"},\n",
    "# {\"name\":\"MIIM30015\"},{\"name\":\"BCMB30002\"},{\"name\":\"BCMB30003\"},{\"name\":\"MIIM20001 MIIM20002\"},\n",
    "# {\"name\":\"CEDB30002\"},{\"name\":\"GENE30002\"},{\"name\":\"MIIM30011\"},{\"name\":\"MIIM30014\"},{\"name\":\"PATH30001\"},],\n",
    "# \"links\":[ {\"source\":9,\"target\":6,\"value\":6},{\"source\":9,\"target\":13,\"value\":5},\n",
    "#          {\"source\":9,\"target\":12,\"value\":4},{\"source\":9,\"target\":5,\"value\":6},\n",
    "#          {\"source\":9,\"target\":14,\"value\":6},{\"source\":9,\"target\":10,\"value\":2},{\"source\":9,\"target\":4,\"value\":6},\n",
    "#          {\"source\":9,\"target\":11,\"value\":3},{\"source\":1,\"target\":9,\"value\":5},{\"source\":1,\"target\":2,\"value\":3},\n",
    "#          {\"source\":0,\"target\":1,\"value\":8},{\"source\":2,\"target\":6,\"value\":4},{\"source\":2,\"target\":7,\"value\":3},\n",
    "#          {\"source\":2,\"target\":5,\"value\":4},{\"source\":2,\"target\":3,\"value\":2},{\"source\":2,\"target\":4,\"value\":4},\n",
    "#          {\"source\":2,\"target\":8,\"value\":4},] }'\n",
    "def create_visualisation_format(node_dict,link_dict):\n",
    "    strs = \"\"\"{\"nodes\":[ \"\"\"\n",
    "    for i in range(0,len(node_dict)):\n",
    "        # append the dictionary keys to the string using dictionary values as input\n",
    "        if i==0:\n",
    "            strs += \"\"\"{\"name\":\"%s\"}\"\"\" %(node_dict.keys()[node_dict.values().index(i)])\n",
    "        else:\n",
    "            strs += \"\"\",{\"name\":\"%s\"}\"\"\" %(node_dict.keys()[node_dict.values().index(i)])\n",
    "    strs+=\"\"\"],\"\"\"\n",
    "    strs+=\"\"\"\"links\":[ \"\"\"\n",
    "    j = True\n",
    "    for key in link_dict:\n",
    "        for inner_key in link_dict[key]:\n",
    "            # replace the subject names in the link dictonary with the corresponding ids that were generated \n",
    "            # as values in the node dictionary\n",
    "            if j:\n",
    "                strs += \"\"\"{\"source\":%s,\"target\":%s,\"value\":%s}\"\"\"\\\n",
    "                % (str(node_dict[key]),str(node_dict[inner_key]),str(link_dict[key][inner_key]))\n",
    "                j=False\n",
    "            else:\n",
    "                strs += \"\"\",{\"source\":%s,\"target\":%s,\"value\":%s\"}\"\"\"\\\n",
    "                % (str(node_dict[key]),str(node_dict[inner_key]),str(link_dict[key][inner_key]))   \n",
    "    strs += \"\"\"] }\"\"\"\n",
    "    return strs"
   ]
  },
  {
   "cell_type": "code",
   "execution_count": 33,
   "metadata": {
    "collapsed": false
   },
   "outputs": [],
   "source": [
    "# generate_json(\"Combos.xlsx\",\"Chemistry.json\",\"Chemistry\")"
   ]
  },
  {
   "cell_type": "code",
   "execution_count": 6,
   "metadata": {
    "collapsed": false
   },
   "outputs": [],
   "source": []
  },
  {
   "cell_type": "code",
   "execution_count": 37,
   "metadata": {
    "collapsed": false
   },
   "outputs": [],
   "source": [
    "# generate separate JSON files for each unique major\n",
    "# @input_file: takes an excel file as input\n",
    "def generate_mult_json(input_file):\n",
    "    data = read_data(input_file)\n",
    "    for major in data['Major'].unique():\n",
    "        # remove this line below once the Mathematics and Statistics data in the csv file has been fixed\n",
    "        if major != \"Mathematics and Statistics\":\n",
    "            # remove this indentation once the Mathematics and Statistics data in the csv file has been fixed\n",
    "            generate_json(input_file,\"json/visuals/\"+major+\".json\",major)"
   ]
  },
  {
   "cell_type": "code",
   "execution_count": 38,
   "metadata": {
    "collapsed": false
   },
   "outputs": [],
   "source": [
    "generate_mult_json(\"Combos.xlsx\")"
   ]
  },
  {
   "cell_type": "markdown",
   "metadata": {},
   "source": [
    "### If you want to view the above generated data"
   ]
  },
  {
   "cell_type": "code",
   "execution_count": 9,
   "metadata": {
    "collapsed": true
   },
   "outputs": [],
   "source": [
    "def read_json(input_file):\n",
    "    my_data = json.loads(open(input_file).read())\n",
    "    return str(my_data)"
   ]
  },
  {
   "cell_type": "code",
   "execution_count": 10,
   "metadata": {
    "collapsed": false
   },
   "outputs": [],
   "source": [
    "final_json = read_json(\"json/Immunology.json\")\n",
    "# final_json"
   ]
  },
  {
   "cell_type": "code",
   "execution_count": 11,
   "metadata": {
    "collapsed": true
   },
   "outputs": [],
   "source": [
    "# for name, group in grouped_data:    \n",
    "#     print (group['Major'].unique())\n",
    "#     print (group[['1st yr 1','1st yr 2','1st yr 3','1st year 4']].values[0])\n",
    "#     print (group[['2nd year 1','2nd year 2','2nd year 3','2nd year 4','2nd year 5','2nd year 6']].values[0])\n",
    "#     print (name)"
   ]
  },
  {
   "cell_type": "markdown",
   "metadata": {},
   "source": [
    "### Generate list of all careers"
   ]
  },
  {
   "cell_type": "code",
   "execution_count": 12,
   "metadata": {
    "collapsed": true
   },
   "outputs": [],
   "source": [
    "# create a list of all unique careers in the input file\n",
    "# @df: takes a dataframe as input\n",
    "# @input_file: takes an excel file as input\n",
    "# output: add output here *****************\n",
    "def all_careers(df,input_file):\n",
    "    # generate a list of all columns which contain the word 'Careers'\n",
    "    careers_col=[col for col in df.columns if 'Careers' in col]\n",
    "    c_list = []\n",
    "    # append all the values from\n",
    "    for career in careers_col:\n",
    "        # add all unique careers in a column to a list\n",
    "        c_list+=list(df[career].unique())\n",
    "    # remove all duplicate careers from the generated list and sort the list    \n",
    "    return sorted(list(set(c_list)))"
   ]
  },
  {
   "cell_type": "code",
   "execution_count": null,
   "metadata": {
    "collapsed": false
   },
   "outputs": [],
   "source": []
  },
  {
   "cell_type": "markdown",
   "metadata": {},
   "source": [
    "### Generate careers for a specific major"
   ]
  },
  {
   "cell_type": "code",
   "execution_count": 13,
   "metadata": {
    "collapsed": true
   },
   "outputs": [],
   "source": [
    "# get all the careers for a given major, function not removed in case it is needed for a future functionality\n",
    "# @input_file: takes an excel file as input\n",
    "# @major: takes a major as an input\n",
    "# output: add output here *****************\n",
    "# def careers_for_major(input_file,major):\n",
    "#     data = read_data(input_file)\n",
    "#     careers_col=[col for col in data.columns if 'Careers' in col]\n",
    "#     c_list = []\n",
    "#     for career in careers_col:\n",
    "#         c_list+=list(data[career].unique())\n",
    "#     return np.unique(data[[col for col in careers_col]][data['Major']==major])"
   ]
  },
  {
   "cell_type": "code",
   "execution_count": 14,
   "metadata": {
    "collapsed": true
   },
   "outputs": [],
   "source": [
    "# careers_for_major(\"Combos.xlsx\",\"Animal Science and Management\")"
   ]
  },
  {
   "cell_type": "code",
   "execution_count": 15,
   "metadata": {
    "collapsed": true
   },
   "outputs": [],
   "source": [
    "# generates a dictionary pair which contains a career and the corresponding major that \n",
    "# is available in order to pursue that career\n",
    "# @data: takes a dataframe as input\n",
    "# output: add output here *****************\n",
    "def career_major_dict(data):\n",
    "    # generate a list of all columns which contain the word 'Careers'\n",
    "    careers_col=[col for col in data.columns if 'Careers' in col]\n",
    "    strs = \"\"\"{\"careers\":[\"\"\"\n",
    "    # flag to check that the given dictionary pair is the first one in the string \n",
    "    # so that there should be no comma in front of this pair\n",
    "    first = True\n",
    "    for major in data['Major'].unique():\n",
    "        # generate all unique careers for a given major\n",
    "        for career in np.unique(data[[col for col in careers_col]][data['Major']==major]):\n",
    "            if career != \" \":\n",
    "                if first:\n",
    "                    strs+=\"\"\"{\"career\":\"%s\",\"major\":\"%s\"}\"\"\" % (career,major)\n",
    "                    first = False\n",
    "                else:\n",
    "                    strs+=\"\"\",{\"career\":\"%s\",\"major\":\"%s\"}\"\"\" % (career,major)\n",
    "    strs+=\"\"\"]}\"\"\"\n",
    "    return strs\n",
    "\n",
    "# generate a json file for all the careers and their corresponding majors\n",
    "# @input_file: takes an excel file as input\n",
    "# @output_file: the name of the generated JSON file\n",
    "def generate_json_careers(input_file,output_file):\n",
    "    data = read_data(input_file)\n",
    "    # add comments\n",
    "    career_list = career_major_dict(data)\n",
    "    #json.dumps() method turns a Python data structure into JSON\n",
    "    jsonData = json.dumps(career_list)\n",
    "    # Writing JSON data into output_file\n",
    "    with open(output_file, 'w') as f:\n",
    "        json.dump(career_list, f)"
   ]
  },
  {
   "cell_type": "code",
   "execution_count": 16,
   "metadata": {
    "collapsed": false
   },
   "outputs": [],
   "source": [
    "generate_json_careers(\"Combos.xlsx\",\"json/careers.json\")"
   ]
  },
  {
   "cell_type": "code",
   "execution_count": 17,
   "metadata": {
    "collapsed": false
   },
   "outputs": [],
   "source": [
    "# read_json(\"careers.json\")"
   ]
  },
  {
   "cell_type": "markdown",
   "metadata": {
    "collapsed": true
   },
   "source": [
    "### Generate subjects for all majors"
   ]
  },
  {
   "cell_type": "code",
   "execution_count": 18,
   "metadata": {
    "collapsed": true
   },
   "outputs": [],
   "source": [
    "# generates a dictionary of unique first, second and third year subjects available for\n",
    "# a given major.\n",
    "# @data: takes a dataframe as input\n",
    "# output: add output here *****************\n",
    "def major_subs_dict(data):\n",
    "    # generate a list of all columns containing first year subjects\n",
    "    firstyr_col=[col for col in data.columns if '1st y' in col]\n",
    "    # generate a list of all columns containing second year subjects\n",
    "    secondyr_col=[col for col in data.columns if '2nd year' in col]\n",
    "    # generate a list of all columns containing third year subjects\n",
    "    thirdyr_col=[col for col in data.columns if '3rd year' in col]\n",
    "    strs = \"\"\"{\"majors\":[\"\"\"\n",
    "    first = True\n",
    "    second = True\n",
    "    third = True\n",
    "    fourth = True\n",
    "    for major in data['Major'].unique():\n",
    "        if fourth:\n",
    "            strs+=\"\"\"{\"major\":\"%s\",\"first\":[\"\"\" % (major)\n",
    "            fourth=False\n",
    "        else:\n",
    "            strs+=\"\"\",{\"major\":\"%s\",\"first\":[\"\"\" % (major)\n",
    "        # generate all unique first year subjects for a given major\n",
    "        for subs in np.unique(data[[col for col in firstyr_col]][data['Major']==major]):\n",
    "            if subs != \" \":\n",
    "                if first:\n",
    "                    strs+=\"\"\"{\"%s\":\"%s\"}\"\"\" % (subs,subs)\n",
    "                    first = False\n",
    "                else:\n",
    "                    strs+=\"\"\",{\"%s\":\"%s\"}\"\"\" % (subs,subs)\n",
    "        strs+=\"\"\"],\"second\":[\"\"\"\n",
    "        # generate all unique second year subjects for a given major\n",
    "        for subs in np.unique(data[[col for col in secondyr_col]][data['Major']==major]):\n",
    "            if subs != \" \":\n",
    "                if second:\n",
    "                    strs+=\"\"\"{\"%s\":\"%s\"}\"\"\" % (subs,subs)\n",
    "                    second = False\n",
    "                else:\n",
    "                    strs+=\"\"\",{\"%s\":\"%s\"}\"\"\" % (subs,subs)\n",
    "        strs+=\"\"\"],\"third\":[\"\"\"\n",
    "        # generate all unique third year subjects for a given major\n",
    "        for subs in np.unique(data[[col for col in thirdyr_col]][data['Major']==major]):\n",
    "            if subs != \" \":\n",
    "                if third:\n",
    "                    strs+=\"\"\"{\"%s\":\"%s\"}\"\"\" % (subs,subs)\n",
    "                    third = False\n",
    "                else:\n",
    "                    strs+=\"\"\",{\"%s\":\"%s\"}\"\"\" % (subs,subs)\n",
    "        strs+=\"\"\"]}\"\"\"\n",
    "        first = True\n",
    "        second = True\n",
    "        third = True\n",
    "    strs+=\"\"\"]}\"\"\"\n",
    "    return strs\n",
    "\n",
    "# generates a json file of a dictionary of unique first, second and third \n",
    "# year subjects available for a given major.\n",
    "# @input_file: takes an excel file as input\n",
    "# @output_file: the name of the generated JSON file\n",
    "def generate_json_majors(input_file,output_file):\n",
    "    data = read_data(input_file)\n",
    "    # add comments\n",
    "    subs_list = major_subs_dict(data)\n",
    "    #json.dumps() method turns a Python data structure into JSON\n",
    "    jsonData = json.dumps(subs_list)\n",
    "    # Writing JSON data into output_file\n",
    "    with open(output_file, 'w') as f:\n",
    "        json.dump(subs_list, f)"
   ]
  },
  {
   "cell_type": "code",
   "execution_count": 19,
   "metadata": {
    "collapsed": false
   },
   "outputs": [],
   "source": [
    "generate_json_majors(\"Combos.xlsx\",\"json/majors.json\")"
   ]
  },
  {
   "cell_type": "code",
   "execution_count": null,
   "metadata": {
    "collapsed": true
   },
   "outputs": [],
   "source": []
  },
  {
   "cell_type": "code",
   "execution_count": null,
   "metadata": {
    "collapsed": true
   },
   "outputs": [],
   "source": []
  },
  {
   "cell_type": "code",
   "execution_count": 28,
   "metadata": {
    "collapsed": true
   },
   "outputs": [],
   "source": [
    "# generate a dictionary of different combinations of first year subjects with their corresponding majors\n",
    "# @data: takes a dataframe as input\n",
    "# output: add output here *****************\n",
    "def firstyr_major_dict(data):\n",
    "    # generate a list of all columns containing first year subjects\n",
    "    firstyr_col=[col for col in data.columns if '1st y' in col]\n",
    "    # get a list of second, third year subjects combinations and majors for each unique \n",
    "    # combination of first year subjects\n",
    "    # add a sample output here *************\n",
    "    first_yr_grouped = data.groupby([col for col in firstyr_col])\n",
    "    strs = \"\"\"{\"subjects\":[\"\"\"\n",
    "    first = True\n",
    "    second = True\n",
    "    third= True\n",
    "    # name refers to each unique first year subject combinations and group refers \n",
    "    # to all the corresponding lists of variations for these combinations\n",
    "    for name, group in first_yr_grouped:\n",
    "        if first:\n",
    "            # sort the list of first year subject combinations\n",
    "            strs+=\"\"\"{\"first_subs\":%s \"\"\" % ([str(x) for x in sorted(name) if x!=' '])\n",
    "            first = False\n",
    "        else:\n",
    "            strs+=\"\"\",{\"first_subs\":%s \"\"\" % ([str(x) for x in sorted(name) if x!=' '])\n",
    "        strs+= \"\"\",\"major\":[\"\"\"\n",
    "        # get the list of all unique majors for a given first year subjects combination\n",
    "        for major in group['Major'].unique():\n",
    "            if second:\n",
    "                strs+=\"\"\" \"%s\" \"\"\" % (major)\n",
    "                second = False\n",
    "            else:\n",
    "                strs+=\"\"\",\"%s\" \"\"\" % (major)\n",
    "        strs+=\"\"\"]}\"\"\"\n",
    "        second = True   \n",
    "    strs+= \"\"\"],\"first_year_subs\":[\"\"\"\n",
    "    # generate all unique first year subjects for a given major\n",
    "    for sub in np.unique(data[[col for col in firstyr_col]]):\n",
    "        if sub!=\" \":\n",
    "            if third:\n",
    "                strs+=\"\"\"{\"%s\":\"%s\"}\"\"\" % (sub,sub)\n",
    "                third = False\n",
    "            else:\n",
    "                strs+=\"\"\",{\"%s\":\"%s\"}\"\"\" % (sub,sub)            \n",
    "            \n",
    "    strs+=\"\"\"]}\"\"\"\n",
    "    first = True\n",
    "    return strs.replace(\"'\",'\"')\n",
    "\n",
    "# generates a json file of a dictionary of different combinations of first year subjects with their corresponding majors\n",
    "# @input_file: takes an excel file as input\n",
    "# @output_file: the name of the generated JSON file\n",
    "def generate_json_subs(input_file,output_file):\n",
    "    data = read_data(input_file)\n",
    "    # add comments\n",
    "    firstyr_list = firstyr_major_dict(data)\n",
    "    #json.dumps() method turns a Python data structure into JSON\n",
    "    jsonData = json.dumps(firstyr_list)\n",
    "    # Writing JSON data into output_file\n",
    "    with open(output_file, 'w') as f:\n",
    "        json.dump(firstyr_list, f)"
   ]
  },
  {
   "cell_type": "code",
   "execution_count": 29,
   "metadata": {
    "collapsed": false
   },
   "outputs": [],
   "source": [
    "generate_json_subs(\"Combos.xlsx\",\"json/firstyrsubs.json\")"
   ]
  },
  {
   "cell_type": "code",
   "execution_count": null,
   "metadata": {
    "collapsed": true
   },
   "outputs": [],
   "source": []
  },
  {
   "cell_type": "code",
   "execution_count": null,
   "metadata": {
    "collapsed": true
   },
   "outputs": [],
   "source": []
  }
 ],
 "metadata": {
  "anaconda-cloud": {},
  "kernelspec": {
   "display_name": "Python [default]",
   "language": "python",
   "name": "python2"
  },
  "language_info": {
   "codemirror_mode": {
    "name": "ipython",
    "version": 2
   },
   "file_extension": ".py",
   "mimetype": "text/x-python",
   "name": "python",
   "nbconvert_exporter": "python",
   "pygments_lexer": "ipython2",
   "version": "2.7.12"
  }
 },
 "nbformat": 4,
 "nbformat_minor": 1
}
